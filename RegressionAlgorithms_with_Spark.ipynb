{
  "nbformat": 4,
  "nbformat_minor": 0,
  "metadata": {
    "kernelspec": {
      "display_name": "Python 3.6",
      "language": "python",
      "name": "python3"
    },
    "language_info": {
      "codemirror_mode": {
        "name": "ipython",
        "version": 3
      },
      "file_extension": ".py",
      "mimetype": "text/x-python",
      "name": "python",
      "nbconvert_exporter": "python",
      "pygments_lexer": "ipython3",
      "version": "3.6.9"
    },
    "colab": {
      "name": "RegressionAlgorithms with Spark.ipynb",
      "provenance": [],
      "collapsed_sections": [],
      "include_colab_link": true
    }
  },
  "cells": [
    {
      "cell_type": "markdown",
      "metadata": {
        "id": "view-in-github",
        "colab_type": "text"
      },
      "source": [
        "<a href=\"https://colab.research.google.com/github/vvvin333/RegressionAlgorithms-with-Spark/blob/master/RegressionAlgorithms_with_Spark.ipynb\" target=\"_parent\"><img src=\"https://colab.research.google.com/assets/colab-badge.svg\" alt=\"Open In Colab\"/></a>"
      ]
    },
    {
      "cell_type": "code",
      "metadata": {
        "id": "aJQEhH84-0kp",
        "colab_type": "code",
        "colab": {
          "base_uri": "https://localhost:8080/",
          "height": 263
        },
        "outputId": "ade96943-1988-4d59-bb19-efa02e4f1697"
      },
      "source": [
        "!pip install pyspark"
      ],
      "execution_count": 2,
      "outputs": [
        {
          "output_type": "stream",
          "text": [
            "Collecting pyspark\n",
            "\u001b[?25l  Downloading https://files.pythonhosted.org/packages/8e/b0/bf9020b56492281b9c9d8aae8f44ff51e1bc91b3ef5a884385cb4e389a40/pyspark-3.0.0.tar.gz (204.7MB)\n",
            "\u001b[K     |████████████████████████████████| 204.7MB 65kB/s \n",
            "\u001b[?25hCollecting py4j==0.10.9\n",
            "\u001b[?25l  Downloading https://files.pythonhosted.org/packages/9e/b6/6a4fb90cd235dc8e265a6a2067f2a2c99f0d91787f06aca4bcf7c23f3f80/py4j-0.10.9-py2.py3-none-any.whl (198kB)\n",
            "\u001b[K     |████████████████████████████████| 204kB 36.8MB/s \n",
            "\u001b[?25hBuilding wheels for collected packages: pyspark\n",
            "  Building wheel for pyspark (setup.py) ... \u001b[?25l\u001b[?25hdone\n",
            "  Created wheel for pyspark: filename=pyspark-3.0.0-py2.py3-none-any.whl size=205044182 sha256=7f500287145463fdbc515c7260e0b9d21eacf1a801806130a61d2149ca6d8597\n",
            "  Stored in directory: /root/.cache/pip/wheels/57/27/4d/ddacf7143f8d5b76c45c61ee2e43d9f8492fc5a8e78ebd7d37\n",
            "Successfully built pyspark\n",
            "Installing collected packages: py4j, pyspark\n",
            "Successfully installed py4j-0.10.9 pyspark-3.0.0\n"
          ],
          "name": "stdout"
        }
      ]
    },
    {
      "cell_type": "code",
      "metadata": {
        "id": "IpI--Uai-0kM",
        "colab_type": "code",
        "colab": {}
      },
      "source": [
        "from IPython.display import Markdown, display\n",
        "def printmd(string):\n",
        "    display(Markdown('# <span style=\"color:red\">'+string+'</span>'))\n",
        "\n",
        "\n",
        "if ('sc' in locals() or 'sc' in globals()):\n",
        "    printmd('<<<<<!!!!! It seems that you are running in a IBM Watson Studio Apache Spark Notebook. Please run it in an IBM Watson Studio Default Runtime (without Apache Spark) !!!!!>>>>>')\n"
      ],
      "execution_count": 3,
      "outputs": []
    },
    {
      "cell_type": "code",
      "metadata": {
        "id": "2IGtsfC4-0k8",
        "colab_type": "code",
        "colab": {}
      },
      "source": [
        "try:\n",
        "    from pyspark import SparkContext, SparkConf\n",
        "    from pyspark.sql import SparkSession\n",
        "except ImportError as e:\n",
        "    printmd('<<<<<!!!!! Please restart your kernel after installing Apache Spark !!!!!>>>>>')"
      ],
      "execution_count": 4,
      "outputs": []
    },
    {
      "cell_type": "code",
      "metadata": {
        "id": "rpbewTFm-0lO",
        "colab_type": "code",
        "colab": {}
      },
      "source": [
        "sc = SparkContext.getOrCreate(SparkConf().setMaster(\"local[*]\"))\n",
        "\n",
        "spark = SparkSession \\\n",
        "    .builder \\\n",
        "    .getOrCreate()"
      ],
      "execution_count": 5,
      "outputs": []
    },
    {
      "cell_type": "markdown",
      "metadata": {
        "id": "uhCuufpu-0le",
        "colab_type": "text"
      },
      "source": [
        "Let’s start by downloading the dataset and creating a dataframe. This dataset can be found on DAX, the IBM Data Asset Exchange and can be downloaded for free.\n",
        "\n",
        "https://developer.ibm.com/exchanges/data/all/jfk-weather-data/"
      ]
    },
    {
      "cell_type": "code",
      "metadata": {
        "id": "gT-jFwEV-0lg",
        "colab_type": "code",
        "colab": {
          "base_uri": "https://localhost:8080/",
          "height": 263
        },
        "outputId": "4f540403-3b42-4d27-a621-b683848ece02"
      },
      "source": [
        "# delete files from previous runs\n",
        "!rm -f jfk_weather*\n",
        "\n",
        "# download the file containing the data in CSV format\n",
        "!wget http://max-training-data.s3-api.us-geo.objectstorage.softlayer.net/noaa-weather/jfk_weather.tar.gz\n",
        "\n",
        "# extract the data\n",
        "!tar xvfz jfk_weather.tar.gz\n",
        "    \n",
        "# create a dataframe out of it by using the first row as field names and trying to infer a schema based on contents\n",
        "df = spark.read.option(\"header\", \"true\").option(\"inferSchema\",\"true\").csv('jfk_weather.csv')\n",
        "\n",
        "# register a corresponding query table\n",
        "df.createOrReplaceTempView('df')"
      ],
      "execution_count": 6,
      "outputs": [
        {
          "output_type": "stream",
          "text": [
            "--2020-08-06 08:59:58--  http://max-training-data.s3-api.us-geo.objectstorage.softlayer.net/noaa-weather/jfk_weather.tar.gz\n",
            "Resolving max-training-data.s3-api.us-geo.objectstorage.softlayer.net (max-training-data.s3-api.us-geo.objectstorage.softlayer.net)... 67.228.254.196\n",
            "Connecting to max-training-data.s3-api.us-geo.objectstorage.softlayer.net (max-training-data.s3-api.us-geo.objectstorage.softlayer.net)|67.228.254.196|:80... connected.\n",
            "HTTP request sent, awaiting response... 200 OK\n",
            "Length: 2575759 (2.5M) [application/x-tar]\n",
            "Saving to: ‘jfk_weather.tar.gz’\n",
            "\n",
            "jfk_weather.tar.gz  100%[===================>]   2.46M   388KB/s    in 7.8s    \n",
            "\n",
            "2020-08-06 09:00:07 (324 KB/s) - ‘jfk_weather.tar.gz’ saved [2575759/2575759]\n",
            "\n",
            "./._jfk_weather.csv\n",
            "jfk_weather.csv\n"
          ],
          "name": "stdout"
        }
      ]
    },
    {
      "cell_type": "markdown",
      "metadata": {
        "id": "yloKD_Ky-0lx",
        "colab_type": "text"
      },
      "source": [
        "The dataset contains some null values, therefore schema inference didn’t work properly for all columns, in addition, a column contained trailing characters, so we need to clean up the data set first. This is a normal task in any data science project since your data is never clean, don’t worry if you don’t understand all code, you won’t be asked about it. "
      ]
    },
    {
      "cell_type": "code",
      "metadata": {
        "id": "xPTNZvAA-0l0",
        "colab_type": "code",
        "colab": {}
      },
      "source": [
        "import random\n",
        "random.seed(42)\n",
        "\n",
        "from pyspark.sql.functions import translate, col\n",
        "\n",
        "df_cleaned = df \\\n",
        "    .withColumn(\"HOURLYWindSpeed\", df.HOURLYWindSpeed.cast('double')) \\\n",
        "    .withColumn(\"HOURLYWindDirection\", df.HOURLYWindDirection.cast('double')) \\\n",
        "    .withColumn(\"HOURLYStationPressure\", translate(col(\"HOURLYStationPressure\"), \"s,\", \"\")) \\\n",
        "    .withColumn(\"HOURLYPrecip\", translate(col(\"HOURLYPrecip\"), \"s,\", \"\")) \\\n",
        "    .withColumn(\"HOURLYRelativeHumidity\", translate(col(\"HOURLYRelativeHumidity\"), \"*\", \"\")) \\\n",
        "    .withColumn(\"HOURLYDRYBULBTEMPC\", translate(col(\"HOURLYDRYBULBTEMPC\"), \"*\", \"\")) \\\n",
        "\n",
        "df_cleaned =   df_cleaned \\\n",
        "                    .withColumn(\"HOURLYStationPressure\", df_cleaned.HOURLYStationPressure.cast('double')) \\\n",
        "                    .withColumn(\"HOURLYPrecip\", df_cleaned.HOURLYPrecip.cast('double')) \\\n",
        "                    .withColumn(\"HOURLYRelativeHumidity\", df_cleaned.HOURLYRelativeHumidity.cast('double')) \\\n",
        "                    .withColumn(\"HOURLYDRYBULBTEMPC\", df_cleaned.HOURLYDRYBULBTEMPC.cast('double')) \\\n",
        "\n",
        "df_filtered = df_cleaned.filter(\"\"\"\n",
        "    HOURLYWindSpeed <> 0\n",
        "    and HOURLYWindSpeed IS NOT NULL\n",
        "    and HOURLYWindDirection IS NOT NULL\n",
        "    and HOURLYStationPressure IS NOT NULL\n",
        "    and HOURLYPressureTendency IS NOT NULL\n",
        "    and HOURLYPrecip IS NOT NULL\n",
        "    and HOURLYRelativeHumidity IS NOT NULL\n",
        "    and HOURLYDRYBULBTEMPC IS NOT NULL\n",
        "\"\"\")"
      ],
      "execution_count": 7,
      "outputs": []
    },
    {
      "cell_type": "markdown",
      "metadata": {
        "id": "os_8UFSC-0mD",
        "colab_type": "text"
      },
      "source": [
        "We want to predict the value of one column based of some others. It is sometimes helpful to print a correlation matrix. "
      ]
    },
    {
      "cell_type": "code",
      "metadata": {
        "id": "Ym3FOPe1-0mG",
        "colab_type": "code",
        "colab": {
          "base_uri": "https://localhost:8080/",
          "height": 69
        },
        "outputId": "50c99707-e69c-4363-f426-7cfc66b6ab9c"
      },
      "source": [
        "from pyspark.ml.feature import VectorAssembler\n",
        "vectorAssembler = VectorAssembler(inputCols=[\"HOURLYWindSpeed\",\"HOURLYWindDirection\",\"HOURLYStationPressure\"],\n",
        "                                  outputCol=\"features\")\n",
        "df_pipeline = vectorAssembler.transform(df_filtered)\n",
        "from pyspark.ml.stat import Correlation\n",
        "Correlation.corr(df_pipeline,\"features\").head()[0].toArray()"
      ],
      "execution_count": 10,
      "outputs": [
        {
          "output_type": "execute_result",
          "data": {
            "text/plain": [
              "array([[ 1.        ,  0.25478863, -0.26171147],\n",
              "       [ 0.25478863,  1.        , -0.13377466],\n",
              "       [-0.26171147, -0.13377466,  1.        ]])"
            ]
          },
          "metadata": {
            "tags": []
          },
          "execution_count": 10
        }
      ]
    },
    {
      "cell_type": "markdown",
      "metadata": {
        "id": "2llVS44i-0mS",
        "colab_type": "text"
      },
      "source": [
        "As we can see, HOURLYWindSpeed and HOURLYWindDirection correlate with 0.25478863 whereas HOURLYWindSpeed  and HOURLYStationPressure correlate with -0.26171147, this is a good sign if we want to predict HOURLYWindSpeed from HOURLYWindDirection and HOURLYStationPressure. Note that the numbers can change over time as we are always working with the latest data.\n",
        "Since this is supervised learning, let’s split our data into train (80%) and test (20%) set."
      ]
    },
    {
      "cell_type": "code",
      "metadata": {
        "id": "saGcOjEV-0mT",
        "colab_type": "code",
        "colab": {}
      },
      "source": [
        "splits = df_filtered.randomSplit([0.8, 0.2])\n",
        "df_train = splits[0]\n",
        "df_test = splits[1]"
      ],
      "execution_count": 11,
      "outputs": []
    },
    {
      "cell_type": "markdown",
      "metadata": {
        "id": "Ax0NnLth-0mh",
        "colab_type": "text"
      },
      "source": [
        "Again, we can re-use our feature engineering pipeline"
      ]
    },
    {
      "cell_type": "code",
      "metadata": {
        "id": "ixXpQYAV-0mk",
        "colab_type": "code",
        "colab": {}
      },
      "source": [
        "from pyspark.ml.feature import StringIndexer, OneHotEncoder\n",
        "from pyspark.ml.linalg import Vectors\n",
        "from pyspark.ml.feature import VectorAssembler\n",
        "from pyspark.ml.feature import Normalizer\n",
        "from pyspark.ml import Pipeline\n",
        "\n",
        "vectorAssembler = VectorAssembler(inputCols=[\n",
        "                                    \"HOURLYWindDirection\",\n",
        "                                    \"ELEVATION\",\n",
        "                                    \"HOURLYStationPressure\"],\n",
        "                                  outputCol=\"features\")\n",
        "\n",
        "normalizer = Normalizer(inputCol=\"features\", outputCol=\"features_norm\", p=1.0)"
      ],
      "execution_count": 12,
      "outputs": []
    },
    {
      "cell_type": "markdown",
      "metadata": {
        "id": "SlT4oWZi-0mx",
        "colab_type": "text"
      },
      "source": [
        "Now we define a function for evaluating our regression prediction performance. We’re using RMSE (Root Mean Squared Error) here , the smaller the better…\n",
        "\n"
      ]
    },
    {
      "cell_type": "code",
      "metadata": {
        "id": "hTJzktYf-0mz",
        "colab_type": "code",
        "colab": {}
      },
      "source": [
        "def regression_metrics(prediction):\n",
        "    from pyspark.ml.evaluation import RegressionEvaluator\n",
        "    evaluator = RegressionEvaluator(\n",
        "    labelCol=\"HOURLYWindSpeed\", predictionCol=\"prediction\", metricName=\"rmse\")\n",
        "    rmse = evaluator.evaluate(prediction)\n",
        "    print(\"RMSE on test data = %g\" % rmse)"
      ],
      "execution_count": 14,
      "outputs": []
    },
    {
      "cell_type": "markdown",
      "metadata": {
        "id": "9ae1cJVy-0nA",
        "colab_type": "text"
      },
      "source": [
        "Let’s run a linear regression model first for building a baseline.\n",
        "\n"
      ]
    },
    {
      "cell_type": "code",
      "metadata": {
        "id": "-QEQOcl0-0nC",
        "colab_type": "code",
        "colab": {
          "base_uri": "https://localhost:8080/",
          "height": 34
        },
        "outputId": "5a07ec14-de9b-4b2f-d94b-1ac3aeb324a5"
      },
      "source": [
        "#LR1\n",
        "\n",
        "from pyspark.ml.regression import LinearRegression\n",
        "\n",
        "\n",
        "lr = LinearRegression(labelCol=\"HOURLYWindSpeed\", featuresCol='features_norm', maxIter=100, regParam=0.0, elasticNetParam=0.0)\n",
        "pipeline = Pipeline(stages=[vectorAssembler, normalizer, lr])\n",
        "model = pipeline.fit(df_train)\n",
        "prediction = model.transform(df_test)\n",
        "regression_metrics(prediction)"
      ],
      "execution_count": 16,
      "outputs": [
        {
          "output_type": "stream",
          "text": [
            "RMSE on test data = 5.64188\n"
          ],
          "name": "stdout"
        }
      ]
    },
    {
      "cell_type": "markdown",
      "metadata": {
        "id": "D9m9ZMpj-0nY",
        "colab_type": "text"
      },
      "source": [
        "Now we’ll try a Gradient Boosted Tree Regressor"
      ]
    },
    {
      "cell_type": "code",
      "metadata": {
        "id": "uJLmMftq-0nb",
        "colab_type": "code",
        "colab": {
          "base_uri": "https://localhost:8080/",
          "height": 34
        },
        "outputId": "98b48a6c-1e61-470a-c568-969608ae862d"
      },
      "source": [
        "#GBT1\n",
        "\n",
        "from pyspark.ml.regression import GBTRegressor\n",
        "gbt = GBTRegressor(labelCol=\"HOURLYWindSpeed\", maxIter=100)\n",
        "pipeline = Pipeline(stages=[vectorAssembler, normalizer, gbt])\n",
        "model = pipeline.fit(df_train)\n",
        "prediction = model.transform(df_test)\n",
        "regression_metrics(prediction)"
      ],
      "execution_count": 17,
      "outputs": [
        {
          "output_type": "stream",
          "text": [
            "RMSE on test data = 5.15279\n"
          ],
          "name": "stdout"
        }
      ]
    },
    {
      "cell_type": "markdown",
      "metadata": {
        "id": "GPLYe601-0nl",
        "colab_type": "text"
      },
      "source": [
        "Now let’s switch gears. Previously, we tried to predict HOURLYWindSpeed, but now we predict HOURLYWindDirection. In order to turn this into a classification problem we discretize the value using the Bucketizer. The new feature is called HOURLYWindDirectionBucketized."
      ]
    },
    {
      "cell_type": "code",
      "metadata": {
        "id": "YeuyHAMp-0nn",
        "colab_type": "code",
        "colab": {}
      },
      "source": [
        "from pyspark.ml.feature import Bucketizer, OneHotEncoder\n",
        "bucketizer = Bucketizer(splits=[ 0, 180, float('Inf') ],inputCol=\"HOURLYWindDirection\", outputCol=\"HOURLYWindDirectionBucketized\")\n",
        "encoder = OneHotEncoder(inputCol=\"HOURLYWindDirectionBucketized\", outputCol=\"HOURLYWindDirectionOHE\")\n"
      ],
      "execution_count": 18,
      "outputs": []
    },
    {
      "cell_type": "markdown",
      "metadata": {
        "id": "E-5I1i4_-0n1",
        "colab_type": "text"
      },
      "source": [
        "Again, we define a function in order to assess how we perform. Here we just use the accuracy measure which gives us the fraction of correctly classified examples. Again, 0 is bad, 1 is good."
      ]
    },
    {
      "cell_type": "code",
      "metadata": {
        "id": "0svc14Bp-0n3",
        "colab_type": "code",
        "colab": {}
      },
      "source": [
        "def classification_metrics(prediction):\n",
        "    from pyspark.ml.evaluation import MulticlassClassificationEvaluator\n",
        "    mcEval = MulticlassClassificationEvaluator().setMetricName(\"accuracy\") .setPredictionCol(\"prediction\").setLabelCol(\"HOURLYWindDirectionBucketized\")\n",
        "    accuracy = mcEval.evaluate(prediction)\n",
        "    print(\"Accuracy on test data = %g\" % accuracy)"
      ],
      "execution_count": 22,
      "outputs": []
    },
    {
      "cell_type": "markdown",
      "metadata": {
        "id": "4njbdN3i-0oB",
        "colab_type": "text"
      },
      "source": [
        "Again, for baselining we use LogisticRegression."
      ]
    },
    {
      "cell_type": "code",
      "metadata": {
        "id": "9hl-kIng-0oD",
        "colab_type": "code",
        "colab": {
          "base_uri": "https://localhost:8080/",
          "height": 34
        },
        "outputId": "a0a1070a-e94b-4781-ea77-eba777a26edd"
      },
      "source": [
        "#LGReg1\n",
        "\n",
        "from pyspark.ml.classification import LogisticRegression\n",
        "lr = LogisticRegression(labelCol=\"HOURLYWindDirectionBucketized\", maxIter=10)\n",
        "#,\"ELEVATION\",\"HOURLYStationPressure\",\"HOURLYPressureTendency\",\"HOURLYPrecip\"\n",
        "\n",
        "vectorAssembler = VectorAssembler(inputCols=[\"HOURLYWindSpeed\",\"HOURLYDRYBULBTEMPC\"],\n",
        "                                  outputCol=\"features\")\n",
        "\n",
        "pipeline = Pipeline(stages=[bucketizer,vectorAssembler,normalizer,lr])\n",
        "model = pipeline.fit(df_train)\n",
        "prediction = model.transform(df_test)\n",
        "classification_metrics(prediction)"
      ],
      "execution_count": 23,
      "outputs": [
        {
          "output_type": "stream",
          "text": [
            "Accuracy on test data = 0.681374\n"
          ],
          "name": "stdout"
        }
      ]
    },
    {
      "cell_type": "markdown",
      "metadata": {
        "id": "2TyAhBkK-0oO",
        "colab_type": "text"
      },
      "source": [
        "Let’s try some other Algorithms and see if model performance increases. It’s also important to tweak other parameters like parameters of individual algorithms (e.g. number of trees for RandomForest) or parameters in the feature engineering pipeline, e.g. train/test split ratio, normalization, bucketing, …"
      ]
    },
    {
      "cell_type": "code",
      "metadata": {
        "id": "aYfBZZ9M-0oP",
        "colab_type": "code",
        "colab": {
          "base_uri": "https://localhost:8080/",
          "height": 34
        },
        "outputId": "f108a353-b50e-46c1-84a7-1c4ef958bd92"
      },
      "source": [
        "#RF1\n",
        "\n",
        "from pyspark.ml.classification import RandomForestClassifier\n",
        "rf = RandomForestClassifier(labelCol=\"HOURLYWindDirectionBucketized\", numTrees=10)\n",
        "\n",
        "vectorAssembler = VectorAssembler(inputCols=[\"HOURLYWindSpeed\",\"HOURLYDRYBULBTEMPC\",\"ELEVATION\",\"HOURLYStationPressure\",\"HOURLYPressureTendency\",\"HOURLYPrecip\"],\n",
        "                                  outputCol=\"features\")\n",
        "\n",
        "pipeline = Pipeline(stages=[bucketizer,vectorAssembler,normalizer,rf])\n",
        "model = pipeline.fit(df_train)\n",
        "prediction = model.transform(df_test)\n",
        "classification_metrics(prediction)"
      ],
      "execution_count": 26,
      "outputs": [
        {
          "output_type": "stream",
          "text": [
            "Accuracy on test data = 0.714578\n"
          ],
          "name": "stdout"
        }
      ]
    },
    {
      "cell_type": "code",
      "metadata": {
        "id": "hrnxf68S-0oa",
        "colab_type": "code",
        "colab": {
          "base_uri": "https://localhost:8080/",
          "height": 34
        },
        "outputId": "d361cfaf-e636-4908-df4b-0781397dae04"
      },
      "source": [
        "#GBT2\n",
        "\n",
        "from pyspark.ml.classification import GBTClassifier\n",
        "gbt = GBTClassifier(labelCol=\"HOURLYWindDirectionBucketized\", maxIter=100)\n",
        "\n",
        "vectorAssembler = VectorAssembler(inputCols=[\"HOURLYWindSpeed\",\"HOURLYDRYBULBTEMPC\",\"ELEVATION\",\"HOURLYStationPressure\",\"HOURLYPressureTendency\",\"HOURLYPrecip\"],\n",
        "                                  outputCol=\"features\")\n",
        "\n",
        "pipeline = Pipeline(stages=[bucketizer,vectorAssembler,normalizer,gbt])\n",
        "model = pipeline.fit(df_train)\n",
        "prediction = model.transform(df_test)\n",
        "classification_metrics(prediction)"
      ],
      "execution_count": 25,
      "outputs": [
        {
          "output_type": "stream",
          "text": [
            "Accuracy on test data = 0.723675\n"
          ],
          "name": "stdout"
        }
      ]
    },
    {
      "cell_type": "code",
      "metadata": {
        "id": "GEjoW2I9JzQU",
        "colab_type": "code",
        "colab": {}
      },
      "source": [
        ""
      ],
      "execution_count": null,
      "outputs": []
    }
  ]
}